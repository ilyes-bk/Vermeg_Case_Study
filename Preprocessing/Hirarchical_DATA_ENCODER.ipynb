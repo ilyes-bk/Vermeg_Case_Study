{
 "cells": [
  {
   "cell_type": "code",
   "execution_count": 2,
   "metadata": {},
   "outputs": [
    {
     "name": "stdout",
     "output_type": "stream",
     "text": [
      "Number of paths in the hierarchy: 55\n"
     ]
    }
   ],
   "source": [
    "import pandas as pd\n",
    "from sklearn.model_selection import train_test_split\n",
    "# Load the preprocessed data\n",
    "df = pd.read_csv(\"E:\\downloads\\selected_features_bugs_final (1).csv\")\n",
    "# Define the hierarchical labels\n",
    "hierarchical_labels = [\n",
    "    \"data\",\n",
    "    \"data/structure\",\n",
    "    \"data/structure/column\",\n",
    "    \"data/structure/row\",\n",
    "    \"data/structure/field\",\n",
    "    \"data/database\",\n",
    "    \"data/database/hbase\",\n",
    "    \"data/database/mssql\",\n",
    "    \"data/database/oracle\",\n",
    "    \"data/integrity\",\n",
    "    \"data/integrity/changed\",\n",
    "    \"data/integrity/missing\",\n",
    "    \"data/integrity/wrong\",\n",
    "    \"data/manipulation\",\n",
    "    \"data/manipulation/adjust\",\n",
    "    \"data/manipulation/filter\",\n",
    "    \"data/manipulation/import-export\",\n",
    "    \"data/manipulation/save-delete\",\n",
    "    \"data/manipulation/sort\",\n",
    "    \"data/format\",\n",
    "    \"data/type\",\n",
    "    \"reliability\",\n",
    "    \"reliability/performance\",\n",
    "    \"reliability/performance/latency\",\n",
    "    \"reliability/security\",\n",
    "    \"reliability/code-issues\",\n",
    "    \"reliability/error-handling\",\n",
    "    \"reliability/error-handling/exceptions\",\n",
    "    \"reliability/error-handling/unexpected-errors\",\n",
    "    \"reliability/error-handling/untriggered-errors\",\n",
    "    \"reliability/failures\",\n",
    "    \"reliability/failures/process\",\n",
    "    \"reliability/failures/server\",\n",
    "    \"operation\",\n",
    "    \"operation/fcr\",\n",
    "    \"operation/ignis\",\n",
    "    \"operation/staging\",\n",
    "    \"operation/validation\",\n",
    "    \"operation/designstudio\",\n",
    "    \"operation/designstudio/pipeline\",\n",
    "    \"operation/designstudio/schema\",\n",
    "    \"operation/designstudio/product\",\n",
    "    \"interface\",\n",
    "    \"interface/button\",\n",
    "    \"interface/button/clickbehavior\",\n",
    "    \"interface/button/enable-disable\",\n",
    "    \"interface/display\",\n",
    "    \"interface/display/incorrect\",\n",
    "    \"interface/display/missing\",\n",
    "    \"interface/layout\",\n",
    "    \"interface/layout/box\",\n",
    "    \"interface/layout/grid\",\n",
    "    \"interface/navigation\",\n",
    "    \"interface/navigation/menu\",\n",
    "    \"interface/navigation/search\",\n",
    "]\n",
    "\n",
    "\n",
    "\n",
    "\n",
    "num_paths = len(hierarchical_labels)\n",
    "print(f\"Number of paths in the hierarchy: {num_paths}\")\n"
   ]
  },
  {
   "cell_type": "code",
   "execution_count": 3,
   "metadata": {},
   "outputs": [],
   "source": [
    "def create_arff(df, file_path):\n",
    "    # Define ARFF-like header\n",
    "    header = \"@RELATION jira_bugs\\n\\n\"\n",
    "    \n",
    "    # Add attributes for selected features\n",
    "    for i in range(df.shape[1] - 1):  # Assuming the last column is 'Labels' and the rest are features\n",
    "        header += f\"@ATTRIBUTE feature{i+1} NUMERIC\\n\"\n",
    "    \n",
    "    # Add class hierarchical attribute\n",
    "    header += f\"@ATTRIBUTE class hierarchical {','.join(hierarchical_labels)}\\n\"\n",
    "    \n",
    "    # Define ARFF-like data section\n",
    "    data_section = \"@DATA\\n\"\n",
    "    \n",
    "    # Prepare data rows\n",
    "    for index, row in df.iterrows():\n",
    "        features = \",\".join(map(str, row.iloc[:-1].values))  # Skip the 'Labels' column\n",
    "        labels = row['Label']\n",
    "        data_section += f'{features},{labels}\\n'\n",
    "        \n",
    "     # Write to ARFF-like file\n",
    "    with open(file_path, 'w') as file:\n",
    "        file.write(header)\n",
    "        file.write(data_section)"
   ]
  },
  {
   "cell_type": "code",
   "execution_count": 4,
   "metadata": {},
   "outputs": [
    {
     "name": "stdout",
     "output_type": "stream",
     "text": [
      "ARFF files created successfully.\n"
     ]
    }
   ],
   "source": [
    "# Split the data into train and test sets\n",
    "train_df, test_df = train_test_split(df, test_size=0.2, random_state=42)\n",
    "\n",
    "# Create ARFF files for train and test sets\n",
    "create_arff(train_df, 'C:/Users/21629/Documents/HMC/UTILS/C-HMCNN-master/C-HMCNN-master/HMC_data/others/finaldefects_train.arff')\n",
    "create_arff(test_df, 'C:/Users/21629/Documents/HMC/UTILS/C-HMCNN-master/C-HMCNN-master/HMC_data/others/finaldefects_test.arff')\n",
    "\n",
    "print(\"ARFF files created successfully.\")"
   ]
  }
 ],
 "metadata": {
  "kernelspec": {
   "display_name": "Python 3",
   "language": "python",
   "name": "python3"
  },
  "language_info": {
   "codemirror_mode": {
    "name": "ipython",
    "version": 3
   },
   "file_extension": ".py",
   "mimetype": "text/x-python",
   "name": "python",
   "nbconvert_exporter": "python",
   "pygments_lexer": "ipython3",
   "version": "3.11.0"
  }
 },
 "nbformat": 4,
 "nbformat_minor": 2
}
